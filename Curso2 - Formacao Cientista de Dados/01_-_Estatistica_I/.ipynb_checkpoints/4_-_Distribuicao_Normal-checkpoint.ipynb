{
 "cells": [
  {
   "cell_type": "markdown",
   "metadata": {},
   "source": [
    "# Parte 1"
   ]
  },
  {
   "cell_type": "code",
   "execution_count": 3,
   "metadata": {},
   "outputs": [],
   "source": [
    "from scipy.stats import norm"
   ]
  },
  {
   "cell_type": "code",
   "execution_count": 4,
   "metadata": {},
   "outputs": [
    {
     "data": {
      "text/plain": [
       "0.15865525393145707"
      ]
     },
     "execution_count": 4,
     "metadata": {},
     "output_type": "execute_result"
    }
   ],
   "source": [
    "# Conjunto de objetos em uma cesta, a média é 8 e o desvio padrão é 2. Qual a probabilidade de tirar um objeto que\n",
    "# o peso é menor que 6 kg?\n",
    "\n",
    "norm.cdf(6, 8, 2) #Usado para MENOR"
   ]
  },
  {
   "cell_type": "code",
   "execution_count": 5,
   "metadata": {},
   "outputs": [
    {
     "data": {
      "text/plain": [
       "0.8413447460685429"
      ]
     },
     "execution_count": 5,
     "metadata": {},
     "output_type": "execute_result"
    }
   ],
   "source": [
    "# Qual a probabilidade de tirar um objeto que o peso é maior que 6 kg?\n",
    "\n",
    "norm.sf(6, 8, 2) #Usado para MAIOR"
   ]
  },
  {
   "cell_type": "code",
   "execution_count": 6,
   "metadata": {},
   "outputs": [
    {
     "data": {
      "text/plain": [
       "0.31731050786291415"
      ]
     },
     "execution_count": 6,
     "metadata": {},
     "output_type": "execute_result"
    }
   ],
   "source": [
    "# Qual a probabilidade de tirar um objeto que o peso é menor que 6 ou maior que 10 kg?\n",
    "\n",
    "norm.cdf(6, 8, 2) + norm.sf(10, 8, 2) #Análise gráfica de distribuição normal"
   ]
  },
  {
   "cell_type": "code",
   "execution_count": 7,
   "metadata": {},
   "outputs": [
    {
     "data": {
      "text/plain": [
       "0.3413447460685429"
      ]
     },
     "execution_count": 7,
     "metadata": {},
     "output_type": "execute_result"
    }
   ],
   "source": [
    "# Qual a probabilidade de tirar um objeto que o peso é menor que 10 e maior que 8 kg?\n",
    "\n",
    "norm.cdf(10, 8, 2) - norm.cdf(8, 8, 2) #Análise gráfica de distribuição normal"
   ]
  },
  {
   "cell_type": "code",
   "execution_count": null,
   "metadata": {},
   "outputs": [],
   "source": []
  },
  {
   "cell_type": "markdown",
   "metadata": {},
   "source": [
    "# Parte 2"
   ]
  },
  {
   "cell_type": "code",
   "execution_count": 8,
   "metadata": {},
   "outputs": [],
   "source": [
    "from scipy import stats\n",
    "from scipy.stats import norm\n",
    "import matplotlib.pyplot as plt"
   ]
  },
  {
   "cell_type": "code",
   "execution_count": 9,
   "metadata": {},
   "outputs": [],
   "source": [
    "dados = norm.rvs(size = 100) #Gera uma distribuição normal"
   ]
  },
  {
   "cell_type": "code",
   "execution_count": 10,
   "metadata": {},
   "outputs": [
    {
     "data": {
      "text/plain": [
       "((array([-2.46203784, -2.12570747, -1.93122778, -1.79044653, -1.67819304,\n",
       "         -1.58381122, -1.50174123, -1.42869743, -1.36256869, -1.30191411,\n",
       "         -1.24570419, -1.19317644, -1.14374949, -1.09696931, -1.05247413,\n",
       "         -1.00997067, -0.96921765, -0.93001393, -0.89218993, -0.85560121,\n",
       "         -0.82012357, -0.78564937, -0.75208458, -0.71934648, -0.68736185,\n",
       "         -0.65606548, -0.62539893, -0.59530962, -0.56574992, -0.53667655,\n",
       "         -0.50804994, -0.47983378, -0.45199463, -0.42450149, -0.39732558,\n",
       "         -0.37044003, -0.34381966, -0.31744076, -0.29128096, -0.26531902,\n",
       "         -0.23953472, -0.21390872, -0.18842244, -0.16305799, -0.13779803,\n",
       "         -0.1126257 , -0.08752455, -0.06247843, -0.03747145, -0.01248789,\n",
       "          0.01248789,  0.03747145,  0.06247843,  0.08752455,  0.1126257 ,\n",
       "          0.13779803,  0.16305799,  0.18842244,  0.21390872,  0.23953472,\n",
       "          0.26531902,  0.29128096,  0.31744076,  0.34381966,  0.37044003,\n",
       "          0.39732558,  0.42450149,  0.45199463,  0.47983378,  0.50804994,\n",
       "          0.53667655,  0.56574992,  0.59530962,  0.62539893,  0.65606548,\n",
       "          0.68736185,  0.71934648,  0.75208458,  0.78564937,  0.82012357,\n",
       "          0.85560121,  0.89218993,  0.93001393,  0.96921765,  1.00997067,\n",
       "          1.05247413,  1.09696931,  1.14374949,  1.19317644,  1.24570419,\n",
       "          1.30191411,  1.36256869,  1.42869743,  1.50174123,  1.58381122,\n",
       "          1.67819304,  1.79044653,  1.93122778,  2.12570747,  2.46203784]),\n",
       "  array([-2.51227065, -2.42944952, -2.42174009, -2.40522854, -2.36400992,\n",
       "         -2.22522588, -1.91382952, -1.8505032 , -1.83222566, -1.71234887,\n",
       "         -1.65405078, -1.60558036, -1.5354535 , -1.50595071, -1.49921352,\n",
       "         -1.48838799, -1.45342553, -1.45095139, -1.27529205, -1.26940698,\n",
       "         -1.198987  , -1.16347442, -1.06047962, -1.03714555, -1.03509506,\n",
       "         -0.99462239, -0.99401998, -0.98078216, -0.93243617, -0.86926079,\n",
       "         -0.83227867, -0.78003513, -0.76692599, -0.68172822, -0.67995471,\n",
       "         -0.66176262, -0.63620235, -0.63190685, -0.61303471, -0.60922104,\n",
       "         -0.47754868, -0.46920463, -0.46091207, -0.39707539, -0.32849365,\n",
       "         -0.31652348, -0.28438175, -0.25926864, -0.25366821, -0.25070517,\n",
       "         -0.24449325, -0.17132659, -0.14712313, -0.14592985, -0.14018674,\n",
       "         -0.10335697, -0.05521295, -0.03986638, -0.03625811,  0.03386249,\n",
       "          0.05543542,  0.0866395 ,  0.18549877,  0.20336831,  0.20994326,\n",
       "          0.26168305,  0.28433196,  0.34249218,  0.37059797,  0.41146041,\n",
       "          0.43285939,  0.4512525 ,  0.45311561,  0.45732531,  0.48073577,\n",
       "          0.55883289,  0.56916486,  0.58078269,  0.59164472,  0.62379511,\n",
       "          0.63916765,  0.67363326,  0.67709034,  0.69689349,  0.77490531,\n",
       "          0.80066685,  0.86493464,  0.94707037,  1.01737435,  1.02389891,\n",
       "          1.0569107 ,  1.09912545,  1.21653197,  1.24523709,  1.44516394,\n",
       "          1.46623287,  1.8099311 ,  1.88255177,  2.14028179,  2.36363   ])),\n",
       " (1.0965508271496325, -0.2665937971665336, 0.9966755225683169))"
      ]
     },
     "execution_count": 10,
     "metadata": {},
     "output_type": "execute_result"
    },
    {
     "data": {
      "image/png": "[encoded data removed]",
      "text/plain": [
       "<Figure size 432x288 with 1 Axes>"
      ]
     },
     "metadata": {
      "needs_background": "light"
     },
     "output_type": "display_data"
    }
   ],
   "source": [
    "stats.probplot(dados, plot = plt)"
   ]
  },
  {
   "cell_type": "code",
   "execution_count": 11,
   "metadata": {},
   "outputs": [
    {
     "data": {
      "text/plain": [
       "(0.9897520542144775, 0.6445673108100891)"
      ]
     },
     "execution_count": 11,
     "metadata": {},
     "output_type": "execute_result"
    }
   ],
   "source": [
    "stats.shapiro(dados)"
   ]
  },
  {
   "cell_type": "code",
   "execution_count": null,
   "metadata": {},
   "outputs": [],
   "source": []
  },
  {
   "cell_type": "code",
   "execution_count": null,
   "metadata": {},
   "outputs": [],
   "source": []
  }
 ],
 "metadata": {
  "kernelspec": {
   "display_name": "Python 3",
   "language": "python",
   "name": "python3"
  },
  "language_info": {
   "codemirror_mode": {
    "name": "ipython",
    "version": 3
   },
   "file_extension": ".py",
   "mimetype": "text/x-python",
   "name": "python",
   "nbconvert_exporter": "python",
   "pygments_lexer": "ipython3",
   "version": "3.6.8"
  },
  "varInspector": {
   "cols": {
    "lenName": 16,
    "lenType": 16,
    "lenVar": 40
   },
   "kernels_config": {
    "python": {
     "delete_cmd_postfix": "",
     "delete_cmd_prefix": "del ",
     "library": "var_list.py",
     "varRefreshCmd": "print(var_dic_list())"
    },
    "r": {
     "delete_cmd_postfix": ") ",
     "delete_cmd_prefix": "rm(",
     "library": "var_list.r",
     "varRefreshCmd": "cat(var_dic_list()) "
    }
   },
   "types_to_exclude": [
    "module",
    "function",
    "builtin_function_or_method",
    "instance",
    "_Feature"
   ],
   "window_display": false
  }
 },
 "nbformat": 4,
 "nbformat_minor": 2
}
