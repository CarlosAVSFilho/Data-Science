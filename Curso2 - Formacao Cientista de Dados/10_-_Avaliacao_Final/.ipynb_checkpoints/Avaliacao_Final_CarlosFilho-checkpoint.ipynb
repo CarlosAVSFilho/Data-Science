{
 "cells": [
  {
   "cell_type": "markdown",
   "metadata": {},
   "source": [
    "# Arvore de decisão com seleção de atributos"
   ]
  },
  {
   "cell_type": "code",
   "execution_count": 6,
   "metadata": {},
   "outputs": [],
   "source": [
    "import pandas as pd\n",
    "from sklearn.model_selection import train_test_split\n",
    "from sklearn.preprocessing import LabelEncoder\n",
    "from sklearn.metrics import confusion_matrix, accuracy_score\n",
    "\n",
    "from sklearn.svm import SVC\n",
    "from sklearn.ensemble import ExtraTreesClassifier"
   ]
  },
  {
   "cell_type": "code",
   "execution_count": 7,
   "metadata": {},
   "outputs": [
    {
     "data": {
      "text/html": [
       "<div>\n",
       "<style scoped>\n",
       "    .dataframe tbody tr th:only-of-type {\n",
       "        vertical-align: middle;\n",
       "    }\n",
       "\n",
       "    .dataframe tbody tr th {\n",
       "        vertical-align: top;\n",
       "    }\n",
       "\n",
       "    .dataframe thead th {\n",
       "        text-align: right;\n",
       "    }\n",
       "</style>\n",
       "<table border=\"1\" class=\"dataframe\">\n",
       "  <thead>\n",
       "    <tr style=\"text-align: right;\">\n",
       "      <th></th>\n",
       "      <th>CHEQUEESPECIAL</th>\n",
       "      <th>USO_CREDITO</th>\n",
       "      <th>HISTORICO_CREDITO</th>\n",
       "      <th>PROPOSITO</th>\n",
       "      <th>BALANCO_ATUAL</th>\n",
       "      <th>BALANCO_MEDIO_CREDITO</th>\n",
       "      <th>EMPREGADO</th>\n",
       "      <th>LOCAL</th>\n",
       "      <th>ESTADOCIVIL</th>\n",
       "      <th>OUTRASFUNCOES</th>\n",
       "      <th>RESIDENCIADESDE</th>\n",
       "      <th>TIPOSBENS</th>\n",
       "      <th>IDADE</th>\n",
       "      <th>OUTROSPLANOSPGTO</th>\n",
       "      <th>RESIDENCIA</th>\n",
       "      <th>CREDITOSEXISTENTES</th>\n",
       "      <th>EMPREGO</th>\n",
       "      <th>DEPENDENTES</th>\n",
       "      <th>TRABAESTRANGEIRO</th>\n",
       "      <th>CLASSE</th>\n",
       "    </tr>\n",
       "  </thead>\n",
       "  <tbody>\n",
       "    <tr>\n",
       "      <th>0</th>\n",
       "      <td>&lt;0</td>\n",
       "      <td>6</td>\n",
       "      <td>crítica / outros de crédito existente</td>\n",
       "      <td>Computador/TV</td>\n",
       "      <td>1169</td>\n",
       "      <td>nenhuma economia conhecida</td>\n",
       "      <td>&gt;=7</td>\n",
       "      <td>4</td>\n",
       "      <td>masculino solteiro</td>\n",
       "      <td>nenhum</td>\n",
       "      <td>4</td>\n",
       "      <td>bens imóveis</td>\n",
       "      <td>67</td>\n",
       "      <td>nenhum</td>\n",
       "      <td>própria</td>\n",
       "      <td>2</td>\n",
       "      <td>especializado</td>\n",
       "      <td>1</td>\n",
       "      <td>sim</td>\n",
       "      <td>bom</td>\n",
       "    </tr>\n",
       "    <tr>\n",
       "      <th>1</th>\n",
       "      <td>0&lt;=X&lt;200</td>\n",
       "      <td>48</td>\n",
       "      <td>existente e pago</td>\n",
       "      <td>Computador/TV</td>\n",
       "      <td>5951</td>\n",
       "      <td>&lt;100</td>\n",
       "      <td>1&lt;=X&lt;4</td>\n",
       "      <td>2</td>\n",
       "      <td>fem div/cas</td>\n",
       "      <td>nenhum</td>\n",
       "      <td>2</td>\n",
       "      <td>bens imóveis</td>\n",
       "      <td>22</td>\n",
       "      <td>nenhum</td>\n",
       "      <td>própria</td>\n",
       "      <td>1</td>\n",
       "      <td>especializado</td>\n",
       "      <td>1</td>\n",
       "      <td>sim</td>\n",
       "      <td>ruim</td>\n",
       "    </tr>\n",
       "    <tr>\n",
       "      <th>2</th>\n",
       "      <td>sem cheque</td>\n",
       "      <td>12</td>\n",
       "      <td>crítica / outros de crédito existente</td>\n",
       "      <td>educação</td>\n",
       "      <td>2096</td>\n",
       "      <td>&lt;100</td>\n",
       "      <td>4&lt;=X&lt;7</td>\n",
       "      <td>2</td>\n",
       "      <td>masculino solteiro</td>\n",
       "      <td>nenhum</td>\n",
       "      <td>3</td>\n",
       "      <td>bens imóveis</td>\n",
       "      <td>49</td>\n",
       "      <td>nenhum</td>\n",
       "      <td>própria</td>\n",
       "      <td>1</td>\n",
       "      <td>não especializado</td>\n",
       "      <td>2</td>\n",
       "      <td>sim</td>\n",
       "      <td>bom</td>\n",
       "    </tr>\n",
       "    <tr>\n",
       "      <th>3</th>\n",
       "      <td>&lt;0</td>\n",
       "      <td>42</td>\n",
       "      <td>existente e pago</td>\n",
       "      <td>mobilia/equipamento</td>\n",
       "      <td>7882</td>\n",
       "      <td>&lt;100</td>\n",
       "      <td>4&lt;=X&lt;7</td>\n",
       "      <td>2</td>\n",
       "      <td>masculino solteiro</td>\n",
       "      <td>fiador</td>\n",
       "      <td>4</td>\n",
       "      <td>seguro de vida</td>\n",
       "      <td>45</td>\n",
       "      <td>nenhum</td>\n",
       "      <td>gratuitamente</td>\n",
       "      <td>1</td>\n",
       "      <td>especializado</td>\n",
       "      <td>2</td>\n",
       "      <td>sim</td>\n",
       "      <td>bom</td>\n",
       "    </tr>\n",
       "    <tr>\n",
       "      <th>4</th>\n",
       "      <td>&lt;0</td>\n",
       "      <td>24</td>\n",
       "      <td>atrasos anteriores</td>\n",
       "      <td>carro novo</td>\n",
       "      <td>4870</td>\n",
       "      <td>&lt;100</td>\n",
       "      <td>1&lt;=X&lt;4</td>\n",
       "      <td>3</td>\n",
       "      <td>masculino solteiro</td>\n",
       "      <td>nenhum</td>\n",
       "      <td>4</td>\n",
       "      <td>nenhuma conhecida</td>\n",
       "      <td>53</td>\n",
       "      <td>nenhum</td>\n",
       "      <td>gratuitamente</td>\n",
       "      <td>2</td>\n",
       "      <td>especializado</td>\n",
       "      <td>2</td>\n",
       "      <td>sim</td>\n",
       "      <td>ruim</td>\n",
       "    </tr>\n",
       "  </tbody>\n",
       "</table>\n",
       "</div>"
      ],
      "text/plain": [
       "  CHEQUEESPECIAL  USO_CREDITO                      HISTORICO_CREDITO  \\\n",
       "0             <0            6  crítica / outros de crédito existente   \n",
       "1       0<=X<200           48                       existente e pago   \n",
       "2     sem cheque           12  crítica / outros de crédito existente   \n",
       "3             <0           42                       existente e pago   \n",
       "4             <0           24                     atrasos anteriores   \n",
       "\n",
       "             PROPOSITO  BALANCO_ATUAL       BALANCO_MEDIO_CREDITO EMPREGADO  \\\n",
       "0        Computador/TV           1169  nenhuma economia conhecida       >=7   \n",
       "1        Computador/TV           5951                        <100    1<=X<4   \n",
       "2             educação           2096                        <100    4<=X<7   \n",
       "3  mobilia/equipamento           7882                        <100    4<=X<7   \n",
       "4           carro novo           4870                        <100    1<=X<4   \n",
       "\n",
       "   LOCAL         ESTADOCIVIL OUTRASFUNCOES  RESIDENCIADESDE  \\\n",
       "0      4  masculino solteiro        nenhum                4   \n",
       "1      2         fem div/cas        nenhum                2   \n",
       "2      2  masculino solteiro        nenhum                3   \n",
       "3      2  masculino solteiro        fiador                4   \n",
       "4      3  masculino solteiro        nenhum                4   \n",
       "\n",
       "           TIPOSBENS  IDADE OUTROSPLANOSPGTO     RESIDENCIA  \\\n",
       "0       bens imóveis     67           nenhum        própria   \n",
       "1       bens imóveis     22           nenhum        própria   \n",
       "2       bens imóveis     49           nenhum        própria   \n",
       "3     seguro de vida     45           nenhum  gratuitamente   \n",
       "4  nenhuma conhecida     53           nenhum  gratuitamente   \n",
       "\n",
       "   CREDITOSEXISTENTES            EMPREGO  DEPENDENTES TRABAESTRANGEIRO CLASSE  \n",
       "0                   2      especializado            1              sim    bom  \n",
       "1                   1      especializado            1              sim   ruim  \n",
       "2                   1  não especializado            2              sim    bom  \n",
       "3                   1      especializado            2              sim    bom  \n",
       "4                   2      especializado            2              sim   ruim  "
      ]
     },
     "execution_count": 7,
     "metadata": {},
     "output_type": "execute_result"
    }
   ],
   "source": [
    "credito = pd.read_csv('Credito.csv', encoding = \"latin\", sep = ';')\n",
    "credito.head()"
   ]
  },
  {
   "cell_type": "code",
   "execution_count": 8,
   "metadata": {},
   "outputs": [],
   "source": [
    "previsores = credito.iloc[:,0:19].values\n",
    "classe = credito.iloc[:,19].values"
   ]
  },
  {
   "cell_type": "code",
   "execution_count": 9,
   "metadata": {},
   "outputs": [],
   "source": [
    "# É necessário converter os atributos categóricos em numéricos. GaussianNB não trabalha com strings.\n",
    "\n",
    "labelencoder = LabelEncoder()\n",
    "previsores[:,0] = labelencoder.fit_transform(previsores[:,0])\n",
    "previsores[:,2] = labelencoder.fit_transform(previsores[:,2])\n",
    "previsores[:,3] = labelencoder.fit_transform(previsores[:,3])\n",
    "previsores[:,5] = labelencoder.fit_transform(previsores[:,5])\n",
    "previsores[:,6] = labelencoder.fit_transform(previsores[:,6])\n",
    "previsores[:,8] = labelencoder.fit_transform(previsores[:,8])\n",
    "previsores[:,9] = labelencoder.fit_transform(previsores[:,9])\n",
    "previsores[:,11] = labelencoder.fit_transform(previsores[:,11])\n",
    "previsores[:,13] = labelencoder.fit_transform(previsores[:,13])\n",
    "previsores[:,14] = labelencoder.fit_transform(previsores[:,14])\n",
    "previsores[:,16] = labelencoder.fit_transform(previsores[:,16])\n",
    "previsores[:,18] = labelencoder.fit_transform(previsores[:,18])\n",
    "\n",
    "X_treinamento, X_teste, y_treinamento, y_teste = train_test_split(previsores, classe, test_size = 0.3, random_state = 0)"
   ]
  },
  {
   "cell_type": "code",
   "execution_count": 10,
   "metadata": {},
   "outputs": [
    {
     "name": "stderr",
     "output_type": "stream",
     "text": [
      "C:\\Users\\Carlos\\Anaconda3\\lib\\site-packages\\sklearn\\svm\\base.py:196: FutureWarning: The default value of gamma will change from 'auto' to 'scale' in version 0.22 to account better for unscaled features. Set gamma explicitly to 'auto' or 'scale' to avoid this warning.\n",
      "  \"avoid this warning.\", FutureWarning)\n"
     ]
    }
   ],
   "source": [
    "svm = SVC()\n",
    "svm.fit(X_treinamento, y_treinamento)\n",
    "previsoes = svm.predict(X_teste)\n",
    "taxa_acerto = accuracy_score(y_teste, previsoes)"
   ]
  },
  {
   "cell_type": "code",
   "execution_count": 11,
   "metadata": {},
   "outputs": [
    {
     "name": "stderr",
     "output_type": "stream",
     "text": [
      "C:\\Users\\Carlos\\Anaconda3\\lib\\site-packages\\sklearn\\ensemble\\forest.py:246: FutureWarning: The default value of n_estimators will change from 10 in version 0.20 to 100 in 0.22.\n",
      "  \"10 in version 0.20 to 100 in 0.22.\", FutureWarning)\n"
     ]
    },
    {
     "data": {
      "text/plain": [
       "array([0.12094078, 0.08936099, 0.07153433, 0.06542653, 0.08436753,\n",
       "       0.04845397, 0.05115097, 0.04813096, 0.04593855, 0.02084868,\n",
       "       0.05249472, 0.04902891, 0.0679606 , 0.04139077, 0.03251929,\n",
       "       0.03863338, 0.04345154, 0.02054477, 0.00782275])"
      ]
     },
     "execution_count": 11,
     "metadata": {},
     "output_type": "execute_result"
    }
   ],
   "source": [
    "# Usaremos o algoritmo ExtraTreesClassifier para identificar os valores de atributos mais relevantes\n",
    "\n",
    "forest = ExtraTreesClassifier()\n",
    "forest.fit(X_treinamento, y_treinamento)\n",
    "importancias = forest.feature_importances_ #Relevância: 0, 4, 1, 12, 2, 3, 6, 11, 16, 7, 5, 10, 8, 15, 14, 13, 9, 17, 18\n",
    "importancias"
   ]
  },
  {
   "cell_type": "code",
   "execution_count": 12,
   "metadata": {},
   "outputs": [],
   "source": [
    "X_treinamento2 = X_treinamento[:,[0, 1, 2]]\n",
    "X_teste2 = X_teste[:,[0, 1, 2]]"
   ]
  },
  {
   "cell_type": "code",
   "execution_count": 13,
   "metadata": {},
   "outputs": [
    {
     "name": "stderr",
     "output_type": "stream",
     "text": [
      "C:\\Users\\Carlos\\Anaconda3\\lib\\site-packages\\sklearn\\svm\\base.py:196: FutureWarning: The default value of gamma will change from 'auto' to 'scale' in version 0.22 to account better for unscaled features. Set gamma explicitly to 'auto' or 'scale' to avoid this warning.\n",
      "  \"avoid this warning.\", FutureWarning)\n"
     ]
    },
    {
     "data": {
      "text/plain": [
       "0.74"
      ]
     },
     "execution_count": 13,
     "metadata": {},
     "output_type": "execute_result"
    }
   ],
   "source": [
    "svm2 = SVC()\n",
    "svm2.fit(X_treinamento2, y_treinamento)\n",
    "\n",
    "previsoes2 = svm2.predict(X_teste2)\n",
    "taxa_acerto = accuracy_score(y_teste, previsoes2)\n",
    "taxa_acerto"
   ]
  }
 ],
 "metadata": {
  "kernelspec": {
   "display_name": "Python 3",
   "language": "python",
   "name": "python3"
  },
  "language_info": {
   "codemirror_mode": {
    "name": "ipython",
    "version": 3
   },
   "file_extension": ".py",
   "mimetype": "text/x-python",
   "name": "python",
   "nbconvert_exporter": "python",
   "pygments_lexer": "ipython3",
   "version": "3.6.8"
  },
  "varInspector": {
   "cols": {
    "lenName": 16,
    "lenType": 16,
    "lenVar": 40
   },
   "kernels_config": {
    "python": {
     "delete_cmd_postfix": "",
     "delete_cmd_prefix": "del ",
     "library": "var_list.py",
     "varRefreshCmd": "print(var_dic_list())"
    },
    "r": {
     "delete_cmd_postfix": ") ",
     "delete_cmd_prefix": "rm(",
     "library": "var_list.r",
     "varRefreshCmd": "cat(var_dic_list()) "
    }
   },
   "position": {
    "height": "212px",
    "left": "871px",
    "right": "20px",
    "top": "157px",
    "width": "335px"
   },
   "types_to_exclude": [
    "module",
    "function",
    "builtin_function_or_method",
    "instance",
    "_Feature"
   ],
   "window_display": false
  }
 },
 "nbformat": 4,
 "nbformat_minor": 2
}
